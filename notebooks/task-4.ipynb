{
 "cells": [
  {
   "cell_type": "markdown",
   "id": "d527b1fc",
   "metadata": {},
   "source": [
    "# Insurance Risk Analytics: Regression Modeling\n",
    "\n",
    "This notebook covers the full workflow for predicting insurance claims using regression models."
   ]
  },
  {
   "cell_type": "code",
   "execution_count": 1,
   "id": "c1f52742",
   "metadata": {},
   "outputs": [
    {
     "name": "stderr",
     "output_type": "stream",
     "text": [
      "/tmp/ipykernel_87520/1148194885.py:5: DtypeWarning: Columns (32,37) have mixed types. Specify dtype option on import or set low_memory=False.\n",
      "  data = pd.read_csv('../data/cleaned_insurance_data.csv')\n"
     ]
    },
    {
     "name": "stdout",
     "output_type": "stream",
     "text": [
      "Data shape: (611066, 53)\n"
     ]
    },
    {
     "data": {
      "text/html": [
       "<div>\n",
       "<style scoped>\n",
       "    .dataframe tbody tr th:only-of-type {\n",
       "        vertical-align: middle;\n",
       "    }\n",
       "\n",
       "    .dataframe tbody tr th {\n",
       "        vertical-align: top;\n",
       "    }\n",
       "\n",
       "    .dataframe thead th {\n",
       "        text-align: right;\n",
       "    }\n",
       "</style>\n",
       "<table border=\"1\" class=\"dataframe\">\n",
       "  <thead>\n",
       "    <tr style=\"text-align: right;\">\n",
       "      <th></th>\n",
       "      <th>UnderwrittenCoverID</th>\n",
       "      <th>PolicyID</th>\n",
       "      <th>TransactionMonth</th>\n",
       "      <th>IsVATRegistered</th>\n",
       "      <th>Citizenship</th>\n",
       "      <th>LegalType</th>\n",
       "      <th>Title</th>\n",
       "      <th>Language</th>\n",
       "      <th>Bank</th>\n",
       "      <th>AccountType</th>\n",
       "      <th>...</th>\n",
       "      <th>CoverCategory</th>\n",
       "      <th>CoverType</th>\n",
       "      <th>CoverGroup</th>\n",
       "      <th>Section</th>\n",
       "      <th>Product</th>\n",
       "      <th>StatutoryClass</th>\n",
       "      <th>StatutoryRiskType</th>\n",
       "      <th>TotalPremium</th>\n",
       "      <th>TotalClaims</th>\n",
       "      <th>LossRatio</th>\n",
       "    </tr>\n",
       "  </thead>\n",
       "  <tbody>\n",
       "    <tr>\n",
       "      <th>0</th>\n",
       "      <td>145249</td>\n",
       "      <td>12827</td>\n",
       "      <td>2015-03-01 00:00:00</td>\n",
       "      <td>True</td>\n",
       "      <td></td>\n",
       "      <td>Close Corporation</td>\n",
       "      <td>Mr</td>\n",
       "      <td>English</td>\n",
       "      <td>First National Bank</td>\n",
       "      <td>Current account</td>\n",
       "      <td>...</td>\n",
       "      <td>Windscreen</td>\n",
       "      <td>Windscreen</td>\n",
       "      <td>Comprehensive - Taxi</td>\n",
       "      <td>Motor Comprehensive</td>\n",
       "      <td>Mobility Metered Taxis: Monthly</td>\n",
       "      <td>Commercial</td>\n",
       "      <td>IFRS Constant</td>\n",
       "      <td>21.929825</td>\n",
       "      <td>0.0</td>\n",
       "      <td>0.0</td>\n",
       "    </tr>\n",
       "    <tr>\n",
       "      <th>1</th>\n",
       "      <td>145249</td>\n",
       "      <td>12827</td>\n",
       "      <td>2015-05-01 00:00:00</td>\n",
       "      <td>True</td>\n",
       "      <td></td>\n",
       "      <td>Close Corporation</td>\n",
       "      <td>Mr</td>\n",
       "      <td>English</td>\n",
       "      <td>First National Bank</td>\n",
       "      <td>Current account</td>\n",
       "      <td>...</td>\n",
       "      <td>Windscreen</td>\n",
       "      <td>Windscreen</td>\n",
       "      <td>Comprehensive - Taxi</td>\n",
       "      <td>Motor Comprehensive</td>\n",
       "      <td>Mobility Metered Taxis: Monthly</td>\n",
       "      <td>Commercial</td>\n",
       "      <td>IFRS Constant</td>\n",
       "      <td>21.929825</td>\n",
       "      <td>0.0</td>\n",
       "      <td>0.0</td>\n",
       "    </tr>\n",
       "    <tr>\n",
       "      <th>2</th>\n",
       "      <td>145255</td>\n",
       "      <td>12827</td>\n",
       "      <td>2015-05-01 00:00:00</td>\n",
       "      <td>True</td>\n",
       "      <td></td>\n",
       "      <td>Close Corporation</td>\n",
       "      <td>Mr</td>\n",
       "      <td>English</td>\n",
       "      <td>First National Bank</td>\n",
       "      <td>Current account</td>\n",
       "      <td>...</td>\n",
       "      <td>Own damage</td>\n",
       "      <td>Own Damage</td>\n",
       "      <td>Comprehensive - Taxi</td>\n",
       "      <td>Motor Comprehensive</td>\n",
       "      <td>Mobility Metered Taxis: Monthly</td>\n",
       "      <td>Commercial</td>\n",
       "      <td>IFRS Constant</td>\n",
       "      <td>512.848070</td>\n",
       "      <td>0.0</td>\n",
       "      <td>0.0</td>\n",
       "    </tr>\n",
       "    <tr>\n",
       "      <th>3</th>\n",
       "      <td>145247</td>\n",
       "      <td>12827</td>\n",
       "      <td>2015-01-01 00:00:00</td>\n",
       "      <td>True</td>\n",
       "      <td></td>\n",
       "      <td>Close Corporation</td>\n",
       "      <td>Mr</td>\n",
       "      <td>English</td>\n",
       "      <td>First National Bank</td>\n",
       "      <td>Current account</td>\n",
       "      <td>...</td>\n",
       "      <td>Third Party</td>\n",
       "      <td>Third Party</td>\n",
       "      <td>Comprehensive - Taxi</td>\n",
       "      <td>Motor Comprehensive</td>\n",
       "      <td>Mobility Metered Taxis: Monthly</td>\n",
       "      <td>Commercial</td>\n",
       "      <td>IFRS Constant</td>\n",
       "      <td>3.256435</td>\n",
       "      <td>0.0</td>\n",
       "      <td>0.0</td>\n",
       "    </tr>\n",
       "    <tr>\n",
       "      <th>4</th>\n",
       "      <td>145247</td>\n",
       "      <td>12827</td>\n",
       "      <td>2015-04-01 00:00:00</td>\n",
       "      <td>True</td>\n",
       "      <td></td>\n",
       "      <td>Close Corporation</td>\n",
       "      <td>Mr</td>\n",
       "      <td>English</td>\n",
       "      <td>First National Bank</td>\n",
       "      <td>Current account</td>\n",
       "      <td>...</td>\n",
       "      <td>Third Party</td>\n",
       "      <td>Third Party</td>\n",
       "      <td>Comprehensive - Taxi</td>\n",
       "      <td>Motor Comprehensive</td>\n",
       "      <td>Mobility Metered Taxis: Monthly</td>\n",
       "      <td>Commercial</td>\n",
       "      <td>IFRS Constant</td>\n",
       "      <td>50.474737</td>\n",
       "      <td>0.0</td>\n",
       "      <td>0.0</td>\n",
       "    </tr>\n",
       "  </tbody>\n",
       "</table>\n",
       "<p>5 rows × 53 columns</p>\n",
       "</div>"
      ],
      "text/plain": [
       "   UnderwrittenCoverID  PolicyID     TransactionMonth  IsVATRegistered  \\\n",
       "0               145249     12827  2015-03-01 00:00:00             True   \n",
       "1               145249     12827  2015-05-01 00:00:00             True   \n",
       "2               145255     12827  2015-05-01 00:00:00             True   \n",
       "3               145247     12827  2015-01-01 00:00:00             True   \n",
       "4               145247     12827  2015-04-01 00:00:00             True   \n",
       "\n",
       "  Citizenship          LegalType Title Language                 Bank  \\\n",
       "0              Close Corporation    Mr  English  First National Bank   \n",
       "1              Close Corporation    Mr  English  First National Bank   \n",
       "2              Close Corporation    Mr  English  First National Bank   \n",
       "3              Close Corporation    Mr  English  First National Bank   \n",
       "4              Close Corporation    Mr  English  First National Bank   \n",
       "\n",
       "       AccountType  ... CoverCategory    CoverType            CoverGroup  \\\n",
       "0  Current account  ...    Windscreen   Windscreen  Comprehensive - Taxi   \n",
       "1  Current account  ...    Windscreen   Windscreen  Comprehensive - Taxi   \n",
       "2  Current account  ...    Own damage   Own Damage  Comprehensive - Taxi   \n",
       "3  Current account  ...   Third Party  Third Party  Comprehensive - Taxi   \n",
       "4  Current account  ...   Third Party  Third Party  Comprehensive - Taxi   \n",
       "\n",
       "               Section                          Product StatutoryClass  \\\n",
       "0  Motor Comprehensive  Mobility Metered Taxis: Monthly     Commercial   \n",
       "1  Motor Comprehensive  Mobility Metered Taxis: Monthly     Commercial   \n",
       "2  Motor Comprehensive  Mobility Metered Taxis: Monthly     Commercial   \n",
       "3  Motor Comprehensive  Mobility Metered Taxis: Monthly     Commercial   \n",
       "4  Motor Comprehensive  Mobility Metered Taxis: Monthly     Commercial   \n",
       "\n",
       "  StatutoryRiskType TotalPremium  TotalClaims LossRatio  \n",
       "0     IFRS Constant    21.929825          0.0       0.0  \n",
       "1     IFRS Constant    21.929825          0.0       0.0  \n",
       "2     IFRS Constant   512.848070          0.0       0.0  \n",
       "3     IFRS Constant     3.256435          0.0       0.0  \n",
       "4     IFRS Constant    50.474737          0.0       0.0  \n",
       "\n",
       "[5 rows x 53 columns]"
      ]
     },
     "execution_count": 1,
     "metadata": {},
     "output_type": "execute_result"
    }
   ],
   "source": [
    "# 1. Import libraries and load data\n",
    "import pandas as pd\n",
    "import numpy as np\n",
    "\n",
    "data = pd.read_csv('../data/cleaned_insurance_data.csv')\n",
    "print(\"Data shape:\", data.shape)\n",
    "data.head()"
   ]
  },
  {
   "cell_type": "markdown",
   "id": "6fc6bde6",
   "metadata": {},
   "source": [
    "## 2. Data Exploration & Cleaning\n",
    "\n",
    "Check for missing values and handle them appropriately."
   ]
  },
  {
   "cell_type": "code",
   "execution_count": 2,
   "id": "0c086425",
   "metadata": {},
   "outputs": [
    {
     "name": "stdout",
     "output_type": "stream",
     "text": [
      "Missing values per column:\n",
      "UnderwrittenCoverID              0\n",
      "PolicyID                         0\n",
      "TransactionMonth                 0\n",
      "IsVATRegistered                  0\n",
      "Citizenship                      0\n",
      "LegalType                        0\n",
      "Title                            0\n",
      "Language                         0\n",
      "Bank                         82350\n",
      "AccountType                  30670\n",
      "MaritalStatus                  450\n",
      "Gender                           0\n",
      "Country                          0\n",
      "Province                         0\n",
      "PostalCode                       0\n",
      "MainCrestaZone                   0\n",
      "SubCrestaZone                    0\n",
      "ItemType                         0\n",
      "mmcode                         215\n",
      "VehicleType                    215\n",
      "RegistrationYear                 0\n",
      "make                           215\n",
      "Model                          215\n",
      "Cylinders                      215\n",
      "cubiccapacity                  215\n",
      "kilowatts                      215\n",
      "bodytype                       215\n",
      "NumberOfDoors                  215\n",
      "VehicleIntroDate               215\n",
      "CustomValueEstimate         456662\n",
      "AlarmImmobiliser                 0\n",
      "TrackingDevice                   0\n",
      "CapitalOutstanding               2\n",
      "NewVehicle                   60351\n",
      "WrittenOff                  377191\n",
      "Rebuilt                     377191\n",
      "Converted                   377191\n",
      "CrossBorder                 610812\n",
      "NumberOfVehiclesInFleet     611066\n",
      "SumInsured                       0\n",
      "TermFrequency                    0\n",
      "CalculatedPremiumPerTerm         0\n",
      "ExcessSelected                   0\n",
      "CoverCategory                    0\n",
      "CoverType                        0\n",
      "CoverGroup                       0\n",
      "Section                          0\n",
      "Product                          0\n",
      "StatutoryClass                   0\n",
      "StatutoryRiskType                0\n",
      "TotalPremium                     0\n",
      "TotalClaims                      0\n",
      "LossRatio                        0\n",
      "dtype: int64\n",
      "UnderwrittenCoverID              0\n",
      "PolicyID                         0\n",
      "TransactionMonth                 0\n",
      "IsVATRegistered                  0\n",
      "Citizenship                      0\n",
      "LegalType                        0\n",
      "Title                            0\n",
      "Language                         0\n",
      "Bank                         82350\n",
      "AccountType                  30670\n",
      "MaritalStatus                  450\n",
      "Gender                           0\n",
      "Country                          0\n",
      "Province                         0\n",
      "PostalCode                       0\n",
      "MainCrestaZone                   0\n",
      "SubCrestaZone                    0\n",
      "ItemType                         0\n",
      "mmcode                         215\n",
      "VehicleType                    215\n",
      "RegistrationYear                 0\n",
      "make                           215\n",
      "Model                          215\n",
      "Cylinders                      215\n",
      "cubiccapacity                  215\n",
      "kilowatts                      215\n",
      "bodytype                       215\n",
      "NumberOfDoors                  215\n",
      "VehicleIntroDate               215\n",
      "CustomValueEstimate         456662\n",
      "AlarmImmobiliser                 0\n",
      "TrackingDevice                   0\n",
      "CapitalOutstanding               2\n",
      "NewVehicle                   60351\n",
      "WrittenOff                  377191\n",
      "Rebuilt                     377191\n",
      "Converted                   377191\n",
      "CrossBorder                 610812\n",
      "NumberOfVehiclesInFleet     611066\n",
      "SumInsured                       0\n",
      "TermFrequency                    0\n",
      "CalculatedPremiumPerTerm         0\n",
      "ExcessSelected                   0\n",
      "CoverCategory                    0\n",
      "CoverType                        0\n",
      "CoverGroup                       0\n",
      "Section                          0\n",
      "Product                          0\n",
      "StatutoryClass                   0\n",
      "StatutoryRiskType                0\n",
      "TotalPremium                     0\n",
      "TotalClaims                      0\n",
      "LossRatio                        0\n",
      "dtype: int64\n",
      "Dropped columns: ['CustomValueEstimate', 'WrittenOff', 'Rebuilt', 'Converted', 'CrossBorder', 'NumberOfVehiclesInFleet']\n",
      "Dropped columns: ['CustomValueEstimate', 'WrittenOff', 'Rebuilt', 'Converted', 'CrossBorder', 'NumberOfVehiclesInFleet']\n",
      "Any missing left? False\n",
      "Any missing left? False\n"
     ]
    }
   ],
   "source": [
    "# Check missing values\n",
    "print(\"Missing values per column:\")\n",
    "print(data.isnull().sum())\n",
    "\n",
    "# Drop columns with too many missing values (if any)\n",
    "threshold = 0.5  # drop columns with >50% missing\n",
    "cols_to_drop = data.columns[data.isnull().mean() > threshold]\n",
    "data = data.drop(columns=cols_to_drop)\n",
    "print(\"Dropped columns:\", list(cols_to_drop))\n",
    "\n",
    "# For numeric columns, fill missing with median\n",
    "num_cols = data.select_dtypes(include=[np.number]).columns\n",
    "data[num_cols] = data[num_cols].fillna(data[num_cols].median())\n",
    "\n",
    "# For categorical columns, fill missing with mode\n",
    "cat_cols = data.select_dtypes(include=['object', 'category', 'bool']).columns\n",
    "for col in cat_cols:\n",
    "    if data[col].isnull().any():\n",
    "        data[col] = data[col].fillna(data[col].mode()[0])\n",
    "\n",
    "print(\"Any missing left?\", data.isnull().any().any())"
   ]
  },
  {
   "cell_type": "markdown",
   "id": "63d23fc6",
   "metadata": {},
   "source": [
    "## 3. Feature Selection & Encoding\n",
    "\n",
    "Select features and encode categorical variables."
   ]
  },
  {
   "cell_type": "code",
   "execution_count": 3,
   "id": "98eb6a57",
   "metadata": {},
   "outputs": [
    {
     "name": "stdout",
     "output_type": "stream",
     "text": [
      "Feature matrix shape after encoding: (611066, 1819)\n"
     ]
    }
   ],
   "source": [
    "# Select features (drop high cardinality or irrelevant columns)\n",
    "target = 'TotalClaims'\n",
    "drop_cols = ['TotalClaims', 'PolicyID', 'UnderwrittenCoverID', 'TransactionMonth', 'VehicleIntroDate']  # adjust as needed\n",
    "\n",
    "# Keep only numeric and relevant categorical columns\n",
    "features = [col for col in data.columns if col not in drop_cols]\n",
    "\n",
    "X = data[features]\n",
    "y = data[target]\n",
    "\n",
    "# Encode categorical variables\n",
    "X = pd.get_dummies(X, drop_first=True)\n",
    "print(\"Feature matrix shape after encoding:\", X.shape)"
   ]
  },
  {
   "cell_type": "markdown",
   "id": "de90e53c",
   "metadata": {},
   "source": [
    "## 4. Train/Test Split\n",
    "\n",
    "Split the data for training and testing."
   ]
  },
  {
   "cell_type": "code",
   "execution_count": 4,
   "id": "eae20115",
   "metadata": {},
   "outputs": [
    {
     "name": "stdout",
     "output_type": "stream",
     "text": [
      "Train shape: (488852, 1819) Test shape: (122214, 1819)\n"
     ]
    }
   ],
   "source": [
    "from sklearn.model_selection import train_test_split\n",
    "\n",
    "if len(X) == 0 or len(y) == 0:\n",
    "    print(\"X or y is empty. Please check your data preprocessing steps.\")\n",
    "    X_train, X_test, y_train, y_test = None, None, None, None\n",
    "else:\n",
    "    X_train, X_test, y_train, y_test = train_test_split(X, y, test_size=0.2, random_state=42)\n",
    "    print(\"Train shape:\", X_train.shape, \"Test shape:\", X_test.shape)"
   ]
  },
  {
   "cell_type": "markdown",
   "id": "a9d84c98",
   "metadata": {},
   "source": [
    "## 5. Model Training\n",
    "\n",
    "Train Linear Regression and Random Forest models."
   ]
  },
  {
   "cell_type": "code",
   "execution_count": null,
   "id": "76a05ef2",
   "metadata": {},
   "outputs": [],
   "source": [
    "from sklearn.linear_model import LinearRegression\n",
    "\n",
    "lr = LinearRegression()\n",
    "if X_train is not None and y_train is not None:\n",
    "    lr.fit(X_train, y_train)\n",
    "else:\n",
    "    print(\"Training data not available. Please check your preprocessing steps.\")"
   ]
  },
  {
   "cell_type": "code",
   "execution_count": null,
   "id": "5f41e9b6",
   "metadata": {},
   "outputs": [
    {
     "name": "stdout",
     "output_type": "stream",
     "text": [
      "Training data not available. Please check your preprocessing steps.\n"
     ]
    }
   ],
   "source": [
    "from sklearn.ensemble import RandomForestRegressor\n",
    "\n",
    "rf = RandomForestRegressor(random_state=42)\n",
    "if X_train is not None and y_train is not None:\n",
    "    rf.fit(X_train, y_train)\n",
    "else:\n",
    "    print(\"Training data not available. Please check your preprocessing steps.\")"
   ]
  },
  {
   "cell_type": "markdown",
   "id": "ed7c14c4",
   "metadata": {},
   "source": [
    "## 6. Model Evaluation\n",
    "\n",
    "Evaluate both models using RMSE, MAE, and R²."
   ]
  },
  {
   "cell_type": "code",
   "execution_count": null,
   "id": "8f2979a2",
   "metadata": {},
   "outputs": [
    {
     "name": "stdout",
     "output_type": "stream",
     "text": [
      "Test data not available. Please check your preprocessing steps.\n"
     ]
    }
   ],
   "source": [
    "from sklearn.metrics import mean_squared_error, mean_absolute_error, r2_score\n",
    "\n",
    "def evaluate_model(model, X_test, y_test):\n",
    "    preds = model.predict(X_test)\n",
    "    rmse = np.sqrt(mean_squared_error(y_test, preds))\n",
    "    mae = mean_absolute_error(y_test, preds)\n",
    "    r2 = r2_score(y_test, preds)\n",
    "    print(f\"RMSE: {rmse:.2f}\")\n",
    "    print(f\"MAE: {mae:.2f}\")\n",
    "    print(f\"R^2: {r2:.3f}\")\n",
    "\n",
    "if X_test is not None and y_test is not None:\n",
    "    print(\"Linear Regression:\")\n",
    "    evaluate_model(lr, X_test, y_test)\n",
    "    print(\"\\nRandom Forest:\")\n",
    "    evaluate_model(rf, X_test, y_test)\n",
    "else:\n",
    "    print(\"Test data not available. Please check your preprocessing steps.\")"
   ]
  },
  {
   "cell_type": "markdown",
   "id": "ebee9d13",
   "metadata": {},
   "source": [
    "## 7. Feature Importance\n",
    "\n",
    "Visualize feature importances for Random Forest and coefficients for Linear Regression."
   ]
  },
  {
   "cell_type": "code",
   "execution_count": null,
   "id": "209e7602",
   "metadata": {},
   "outputs": [
    {
     "name": "stdout",
     "output_type": "stream",
     "text": [
      "RandomForestRegressor is not fitted. Please fit the model before plotting feature importances.\n"
     ]
    }
   ],
   "source": [
    "import matplotlib.pyplot as plt\n",
    "\n",
    "if hasattr(rf, \"feature_importances_\"):\n",
    "    importances = rf.feature_importances_\n",
    "    features = X.columns\n",
    "    indices = np.argsort(importances)[::-1][:10]  # top 10\n",
    "    plt.figure(figsize=(8,5))\n",
    "    plt.barh(range(len(indices)), importances[indices][::-1], align='center')\n",
    "    plt.yticks(range(len(indices)), [features[i] for i in indices][::-1])\n",
    "    plt.xlabel('Feature Importance')\n",
    "    plt.title('Top 10 Random Forest Feature Importances')\n",
    "    plt.tight_layout()\n",
    "    plt.show()\n",
    "else:\n",
    "    print(\"RandomForestRegressor is not fitted. Please fit the model before plotting feature importances.\")"
   ]
  },
  {
   "cell_type": "code",
   "execution_count": null,
   "id": "d2bf8c8e",
   "metadata": {},
   "outputs": [
    {
     "name": "stdout",
     "output_type": "stream",
     "text": [
      "LinearRegression model is not fitted or no coefficients are available.\n"
     ]
    }
   ],
   "source": [
    "if hasattr(lr, \"coef_\"):\n",
    "    coefficients = pd.Series(lr.coef_, index=X.columns)\n",
    "    print(\"Top 10 Linear Regression coefficients (by absolute value):\")\n",
    "    print(coefficients.abs().sort_values(ascending=False).head(10))\n",
    "else:\n",
    "    print(\"LinearRegression model is not fitted or no coefficients are available.\")"
   ]
  },
  {
   "cell_type": "markdown",
   "id": "ccddb254",
   "metadata": {},
   "source": [
    "## 8. Save the Best Model\n",
    "\n",
    "Save the Random Forest model for future use."
   ]
  },
  {
   "cell_type": "code",
   "execution_count": null,
   "id": "337204df",
   "metadata": {},
   "outputs": [
    {
     "data": {
      "text/plain": [
       "['random_forest_model.joblib']"
      ]
     },
     "execution_count": 24,
     "metadata": {},
     "output_type": "execute_result"
    }
   ],
   "source": [
    "import joblib\n",
    "\n",
    "joblib.dump(rf, 'random_forest_model.joblib')\n",
    "print(\"Random Forest model saved as 'random_forest_model.joblib'\")"
   ]
  }
 ],
 "metadata": {
  "kernelspec": {
   "display_name": ".venv",
   "language": "python",
   "name": "python3"
  },
  "language_info": {
   "codemirror_mode": {
    "name": "ipython",
    "version": 3
   },
   "file_extension": ".py",
   "mimetype": "text/x-python",
   "name": "python",
   "nbconvert_exporter": "python",
   "pygments_lexer": "ipython3",
   "version": "3.12.3"
  }
 },
 "nbformat": 4,
 "nbformat_minor": 5
}
